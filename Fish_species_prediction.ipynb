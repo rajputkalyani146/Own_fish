{
 "cells": [
  {
   "cell_type": "code",
   "execution_count": 5,
   "id": "7cb9b893",
   "metadata": {},
   "outputs": [
    {
     "ename": "ModuleNotFoundError",
     "evalue": "No module named 'seaborn'",
     "output_type": "error",
     "traceback": [
      "\u001b[1;31m---------------------------------------------------------------------------\u001b[0m",
      "\u001b[1;31mModuleNotFoundError\u001b[0m                       Traceback (most recent call last)",
      "Input \u001b[1;32mIn [5]\u001b[0m, in \u001b[0;36m<cell line: 16>\u001b[1;34m()\u001b[0m\n\u001b[0;32m     14\u001b[0m \u001b[38;5;28;01mimport\u001b[39;00m \u001b[38;5;21;01mwarnings\u001b[39;00m\n\u001b[0;32m     15\u001b[0m warnings\u001b[38;5;241m.\u001b[39mfilterwarnings(\u001b[38;5;124m\"\u001b[39m\u001b[38;5;124mignore\u001b[39m\u001b[38;5;124m\"\u001b[39m)\n\u001b[1;32m---> 16\u001b[0m \u001b[38;5;28;01mimport\u001b[39;00m \u001b[38;5;21;01mseaborn\u001b[39;00m \u001b[38;5;28;01mas\u001b[39;00m \u001b[38;5;21;01msns\u001b[39;00m\n",
      "\u001b[1;31mModuleNotFoundError\u001b[0m: No module named 'seaborn'"
     ]
    }
   ],
   "source": [
    "import numpy as np\n",
    "import pandas as pd\n",
    "\n",
    "from sklearn.model_selection import train_test_split\n",
    "from sklearn.linear_model import LogisticRegression\n",
    "from sklearn.metrics import classification_report, confusion_matrix\n",
    "from sklearn.metrics import accuracy_score, f1_score, precision_score, recall_score\n",
    "from sklearn.metrics import roc_auc_score, roc_curve\n",
    "\n",
    "import matplotlib.pyplot as plt\n",
    "# import seaborn as sns\n",
    "#import plotly.express as px\n",
    "\n",
    "import warnings\n",
    "warnings.filterwarnings(\"ignore\")\n",
    "import seaborn as sns"
   ]
  },
  {
   "cell_type": "code",
   "execution_count": 6,
   "id": "3b1abde4",
   "metadata": {},
   "outputs": [
    {
     "name": "stdout",
     "output_type": "stream",
     "text": [
      "Collecting seaborn\n",
      "  Downloading seaborn-0.12.1-py3-none-any.whl (288 kB)\n",
      "     ------------------------------------ 288.2/288.2 kB 741.3 kB/s eta 0:00:00\n",
      "Requirement already satisfied: matplotlib!=3.6.1,>=3.1 in c:\\users\\91880\\appdata\\local\\programs\\python\\python310\\lib\\site-packages (from seaborn) (3.6.2)\n",
      "Requirement already satisfied: pandas>=0.25 in c:\\users\\91880\\appdata\\local\\programs\\python\\python310\\lib\\site-packages (from seaborn) (1.4.4)\n",
      "Requirement already satisfied: numpy>=1.17 in c:\\users\\91880\\appdata\\local\\programs\\python\\python310\\lib\\site-packages (from seaborn) (1.23.3)\n",
      "Requirement already satisfied: kiwisolver>=1.0.1 in c:\\users\\91880\\appdata\\local\\programs\\python\\python310\\lib\\site-packages (from matplotlib!=3.6.1,>=3.1->seaborn) (1.4.4)\n",
      "Requirement already satisfied: pillow>=6.2.0 in c:\\users\\91880\\appdata\\local\\programs\\python\\python310\\lib\\site-packages (from matplotlib!=3.6.1,>=3.1->seaborn) (9.2.0)\n",
      "Requirement already satisfied: contourpy>=1.0.1 in c:\\users\\91880\\appdata\\local\\programs\\python\\python310\\lib\\site-packages (from matplotlib!=3.6.1,>=3.1->seaborn) (1.0.6)\n",
      "Requirement already satisfied: cycler>=0.10 in c:\\users\\91880\\appdata\\local\\programs\\python\\python310\\lib\\site-packages (from matplotlib!=3.6.1,>=3.1->seaborn) (0.11.0)\n",
      "Requirement already satisfied: fonttools>=4.22.0 in c:\\users\\91880\\appdata\\local\\programs\\python\\python310\\lib\\site-packages (from matplotlib!=3.6.1,>=3.1->seaborn) (4.38.0)\n",
      "Requirement already satisfied: pyparsing>=2.2.1 in c:\\users\\91880\\appdata\\local\\programs\\python\\python310\\lib\\site-packages (from matplotlib!=3.6.1,>=3.1->seaborn) (3.0.9)\n",
      "Requirement already satisfied: packaging>=20.0 in c:\\users\\91880\\appdata\\local\\programs\\python\\python310\\lib\\site-packages (from matplotlib!=3.6.1,>=3.1->seaborn) (21.3)\n",
      "Requirement already satisfied: python-dateutil>=2.7 in c:\\users\\91880\\appdata\\local\\programs\\python\\python310\\lib\\site-packages (from matplotlib!=3.6.1,>=3.1->seaborn) (2.8.2)\n",
      "Requirement already satisfied: pytz>=2020.1 in c:\\users\\91880\\appdata\\local\\programs\\python\\python310\\lib\\site-packages (from pandas>=0.25->seaborn) (2022.2.1)\n",
      "Requirement already satisfied: six>=1.5 in c:\\users\\91880\\appdata\\local\\programs\\python\\python310\\lib\\site-packages (from python-dateutil>=2.7->matplotlib!=3.6.1,>=3.1->seaborn) (1.16.0)\n",
      "Installing collected packages: seaborn\n",
      "Successfully installed seaborn-0.12.1\n",
      "Note: you may need to restart the kernel to use updated packages.\n"
     ]
    }
   ],
   "source": [
    "pip install seaborn"
   ]
  },
  {
   "cell_type": "raw",
   "id": "76492d8a",
   "metadata": {},
   "source": [
    "### Problem Statement \n",
    "\n",
    "To predict the fish species\n",
    "\n",
    "using independent variables - \n",
    "['Species', 'Weight', 'Length1', 'Length2', 'Length3', 'Height',\n",
    "       'Width']\n"
   ]
  },
  {
   "cell_type": "code",
   "execution_count": null,
   "id": "5101acee",
   "metadata": {},
   "outputs": [],
   "source": [
    "#Data Gathering\n",
    "df = pd.read_csv(\"Fish.csv\", delimiter = \"\\t\")\n",
    "df"
   ]
  },
  {
   "cell_type": "code",
   "execution_count": null,
   "id": "27a88c26",
   "metadata": {},
   "outputs": [],
   "source": [
    "# EDA \n",
    "df.info()"
   ]
  },
  {
   "cell_type": "code",
   "execution_count": null,
   "id": "3cd72473",
   "metadata": {},
   "outputs": [],
   "source": [
    "df.describe()"
   ]
  },
  {
   "cell_type": "code",
   "execution_count": null,
   "id": "1fd66eed",
   "metadata": {},
   "outputs": [],
   "source": [
    "df.isna().sum()"
   ]
  },
  {
   "cell_type": "code",
   "execution_count": null,
   "id": "761a597c",
   "metadata": {},
   "outputs": [],
   "source": [
    "x = df.drop(\"Species\",axis = 1)\n",
    "y = df[\"Species\"]"
   ]
  },
  {
   "cell_type": "code",
   "execution_count": null,
   "id": "da0fb784",
   "metadata": {},
   "outputs": [],
   "source": [
    "x_train,x_test,y_train,y_test = train_test_split(x,y,test_size = 0.25, random_state = 18, stratify = y)\n",
    "x_train"
   ]
  },
  {
   "cell_type": "code",
   "execution_count": null,
   "id": "2a47544c",
   "metadata": {},
   "outputs": [],
   "source": [
    "y_test.info()"
   ]
  },
  {
   "cell_type": "code",
   "execution_count": 26,
   "id": "2f3d50a9",
   "metadata": {},
   "outputs": [
    {
     "data": {
      "text/plain": [
       "Perch        42\n",
       "Bream        26\n",
       "Roach        15\n",
       "Pike         13\n",
       "Smelt        10\n",
       "Parkki        8\n",
       "Whitefish     5\n",
       "Name: Species, dtype: int64"
      ]
     },
     "execution_count": 26,
     "metadata": {},
     "output_type": "execute_result"
    }
   ],
   "source": [
    "y_train.value_counts()"
   ]
  },
  {
   "cell_type": "code",
   "execution_count": 27,
   "id": "182f9d96",
   "metadata": {},
   "outputs": [
    {
     "data": {
      "text/plain": [
       "Perch        14\n",
       "Bream         9\n",
       "Roach         5\n",
       "Pike          4\n",
       "Smelt         4\n",
       "Parkki        3\n",
       "Whitefish     1\n",
       "Name: Species, dtype: int64"
      ]
     },
     "execution_count": 27,
     "metadata": {},
     "output_type": "execute_result"
    }
   ],
   "source": [
    "y_test.value_counts()"
   ]
  },
  {
   "cell_type": "code",
   "execution_count": 28,
   "id": "7cc3b438",
   "metadata": {},
   "outputs": [
    {
     "data": {
      "text/html": [
       "<style>#sk-container-id-1 {color: black;background-color: white;}#sk-container-id-1 pre{padding: 0;}#sk-container-id-1 div.sk-toggleable {background-color: white;}#sk-container-id-1 label.sk-toggleable__label {cursor: pointer;display: block;width: 100%;margin-bottom: 0;padding: 0.3em;box-sizing: border-box;text-align: center;}#sk-container-id-1 label.sk-toggleable__label-arrow:before {content: \"▸\";float: left;margin-right: 0.25em;color: #696969;}#sk-container-id-1 label.sk-toggleable__label-arrow:hover:before {color: black;}#sk-container-id-1 div.sk-estimator:hover label.sk-toggleable__label-arrow:before {color: black;}#sk-container-id-1 div.sk-toggleable__content {max-height: 0;max-width: 0;overflow: hidden;text-align: left;background-color: #f0f8ff;}#sk-container-id-1 div.sk-toggleable__content pre {margin: 0.2em;color: black;border-radius: 0.25em;background-color: #f0f8ff;}#sk-container-id-1 input.sk-toggleable__control:checked~div.sk-toggleable__content {max-height: 200px;max-width: 100%;overflow: auto;}#sk-container-id-1 input.sk-toggleable__control:checked~label.sk-toggleable__label-arrow:before {content: \"▾\";}#sk-container-id-1 div.sk-estimator input.sk-toggleable__control:checked~label.sk-toggleable__label {background-color: #d4ebff;}#sk-container-id-1 div.sk-label input.sk-toggleable__control:checked~label.sk-toggleable__label {background-color: #d4ebff;}#sk-container-id-1 input.sk-hidden--visually {border: 0;clip: rect(1px 1px 1px 1px);clip: rect(1px, 1px, 1px, 1px);height: 1px;margin: -1px;overflow: hidden;padding: 0;position: absolute;width: 1px;}#sk-container-id-1 div.sk-estimator {font-family: monospace;background-color: #f0f8ff;border: 1px dotted black;border-radius: 0.25em;box-sizing: border-box;margin-bottom: 0.5em;}#sk-container-id-1 div.sk-estimator:hover {background-color: #d4ebff;}#sk-container-id-1 div.sk-parallel-item::after {content: \"\";width: 100%;border-bottom: 1px solid gray;flex-grow: 1;}#sk-container-id-1 div.sk-label:hover label.sk-toggleable__label {background-color: #d4ebff;}#sk-container-id-1 div.sk-serial::before {content: \"\";position: absolute;border-left: 1px solid gray;box-sizing: border-box;top: 0;bottom: 0;left: 50%;z-index: 0;}#sk-container-id-1 div.sk-serial {display: flex;flex-direction: column;align-items: center;background-color: white;padding-right: 0.2em;padding-left: 0.2em;position: relative;}#sk-container-id-1 div.sk-item {position: relative;z-index: 1;}#sk-container-id-1 div.sk-parallel {display: flex;align-items: stretch;justify-content: center;background-color: white;position: relative;}#sk-container-id-1 div.sk-item::before, #sk-container-id-1 div.sk-parallel-item::before {content: \"\";position: absolute;border-left: 1px solid gray;box-sizing: border-box;top: 0;bottom: 0;left: 50%;z-index: -1;}#sk-container-id-1 div.sk-parallel-item {display: flex;flex-direction: column;z-index: 1;position: relative;background-color: white;}#sk-container-id-1 div.sk-parallel-item:first-child::after {align-self: flex-end;width: 50%;}#sk-container-id-1 div.sk-parallel-item:last-child::after {align-self: flex-start;width: 50%;}#sk-container-id-1 div.sk-parallel-item:only-child::after {width: 0;}#sk-container-id-1 div.sk-dashed-wrapped {border: 1px dashed gray;margin: 0 0.4em 0.5em 0.4em;box-sizing: border-box;padding-bottom: 0.4em;background-color: white;}#sk-container-id-1 div.sk-label label {font-family: monospace;font-weight: bold;display: inline-block;line-height: 1.2em;}#sk-container-id-1 div.sk-label-container {text-align: center;}#sk-container-id-1 div.sk-container {/* jupyter's `normalize.less` sets `[hidden] { display: none; }` but bootstrap.min.css set `[hidden] { display: none !important; }` so we also need the `!important` here to be able to override the default hidden behavior on the sphinx rendered scikit-learn.org. See: https://github.com/scikit-learn/scikit-learn/issues/21755 */display: inline-block !important;position: relative;}#sk-container-id-1 div.sk-text-repr-fallback {display: none;}</style><div id=\"sk-container-id-1\" class=\"sk-top-container\"><div class=\"sk-text-repr-fallback\"><pre>LogisticRegression(multi_class=&#x27;ovr&#x27;)</pre><b>In a Jupyter environment, please rerun this cell to show the HTML representation or trust the notebook. <br />On GitHub, the HTML representation is unable to render, please try loading this page with nbviewer.org.</b></div><div class=\"sk-container\" hidden><div class=\"sk-item\"><div class=\"sk-estimator sk-toggleable\"><input class=\"sk-toggleable__control sk-hidden--visually\" id=\"sk-estimator-id-1\" type=\"checkbox\" checked><label for=\"sk-estimator-id-1\" class=\"sk-toggleable__label sk-toggleable__label-arrow\">LogisticRegression</label><div class=\"sk-toggleable__content\"><pre>LogisticRegression(multi_class=&#x27;ovr&#x27;)</pre></div></div></div></div></div>"
      ],
      "text/plain": [
       "LogisticRegression(multi_class='ovr')"
      ]
     },
     "execution_count": 28,
     "metadata": {},
     "output_type": "execute_result"
    }
   ],
   "source": [
    "# Model Training\n",
    "model = LogisticRegression(multi_class = \"ovr\")\n",
    "model.fit(x_train,y_train)"
   ]
  },
  {
   "cell_type": "code",
   "execution_count": 29,
   "id": "9b79fbe2",
   "metadata": {},
   "outputs": [],
   "source": [
    "# Evaluation \n",
    "def metrics(a,b):\n",
    "    cnf_matrix = confusion_matrix(a,b)\n",
    "    print(\"The Confusion Matrix is :\\n\", cnf_matrix)\n",
    "    print(\"*\"*40)\n",
    "    accuracy = accuracy_score(a,b)\n",
    "    print(\"Accuracy is :\",accuracy)\n",
    "    print(\"*\"*40)\n",
    "\n",
    "    clf_report = classification_report(a,b)\n",
    "    print(\"Classification Report :\\n\",clf_report)\n",
    "    print(\"*\"*40)\n",
    "\n",
    "\n",
    "    "
   ]
  },
  {
   "cell_type": "code",
   "execution_count": 30,
   "id": "3f99338d",
   "metadata": {},
   "outputs": [
    {
     "name": "stdout",
     "output_type": "stream",
     "text": [
      "The Confusion Matrix is :\n",
      " [[ 9  0  0  0  0  0  0]\n",
      " [ 1  2  0  0  0  0  0]\n",
      " [ 0  0 14  0  0  0  0]\n",
      " [ 0  0  0  4  0  0  0]\n",
      " [ 0  0  0  0  4  1  0]\n",
      " [ 0  0  0  0  0  4  0]\n",
      " [ 0  0  0  0  1  0  0]]\n",
      "****************************************\n",
      "Accuracy is : 0.925\n",
      "****************************************\n",
      "Classification Report :\n",
      "               precision    recall  f1-score   support\n",
      "\n",
      "       Bream       0.90      1.00      0.95         9\n",
      "      Parkki       1.00      0.67      0.80         3\n",
      "       Perch       1.00      1.00      1.00        14\n",
      "        Pike       1.00      1.00      1.00         4\n",
      "       Roach       0.80      0.80      0.80         5\n",
      "       Smelt       0.80      1.00      0.89         4\n",
      "   Whitefish       0.00      0.00      0.00         1\n",
      "\n",
      "    accuracy                           0.93        40\n",
      "   macro avg       0.79      0.78      0.78        40\n",
      "weighted avg       0.91      0.93      0.91        40\n",
      "\n",
      "****************************************\n"
     ]
    }
   ],
   "source": [
    "# Evaluation for Testing Data \n",
    "y_pred = model.predict(x_test)\n",
    "metrics(y_test,y_pred)"
   ]
  },
  {
   "cell_type": "code",
   "execution_count": 31,
   "id": "abbf610e",
   "metadata": {},
   "outputs": [
    {
     "name": "stdout",
     "output_type": "stream",
     "text": [
      "The Confusion Matrix is :\n",
      " [[26  0  0  0  0  0  0]\n",
      " [ 0  8  0  0  0  0  0]\n",
      " [ 0  0 42  0  0  0  0]\n",
      " [ 0  0  0 13  0  0  0]\n",
      " [ 0  0  1  0 14  0  0]\n",
      " [ 0  0  0  0  0 10  0]\n",
      " [ 0  0  5  0  0  0  0]]\n",
      "****************************************\n",
      "Accuracy is : 0.9495798319327731\n",
      "****************************************\n",
      "Classification Report :\n",
      "               precision    recall  f1-score   support\n",
      "\n",
      "       Bream       1.00      1.00      1.00        26\n",
      "      Parkki       1.00      1.00      1.00         8\n",
      "       Perch       0.88      1.00      0.93        42\n",
      "        Pike       1.00      1.00      1.00        13\n",
      "       Roach       1.00      0.93      0.97        15\n",
      "       Smelt       1.00      1.00      1.00        10\n",
      "   Whitefish       0.00      0.00      0.00         5\n",
      "\n",
      "    accuracy                           0.95       119\n",
      "   macro avg       0.84      0.85      0.84       119\n",
      "weighted avg       0.91      0.95      0.93       119\n",
      "\n",
      "****************************************\n"
     ]
    }
   ],
   "source": [
    "# Evaluation on training data\n",
    "y_pred_train = model.predict(x_train)\n",
    "metrics(y_train,y_pred_train)"
   ]
  },
  {
   "cell_type": "code",
   "execution_count": 32,
   "id": "1cc3cdfd",
   "metadata": {},
   "outputs": [
    {
     "data": {
      "text/html": [
       "<div>\n",
       "<style scoped>\n",
       "    .dataframe tbody tr th:only-of-type {\n",
       "        vertical-align: middle;\n",
       "    }\n",
       "\n",
       "    .dataframe tbody tr th {\n",
       "        vertical-align: top;\n",
       "    }\n",
       "\n",
       "    .dataframe thead th {\n",
       "        text-align: right;\n",
       "    }\n",
       "</style>\n",
       "<table border=\"1\" class=\"dataframe\">\n",
       "  <thead>\n",
       "    <tr style=\"text-align: right;\">\n",
       "      <th></th>\n",
       "      <th>74</th>\n",
       "    </tr>\n",
       "  </thead>\n",
       "  <tbody>\n",
       "    <tr>\n",
       "      <th>Weight</th>\n",
       "      <td>40.000</td>\n",
       "    </tr>\n",
       "    <tr>\n",
       "      <th>Length1</th>\n",
       "      <td>13.800</td>\n",
       "    </tr>\n",
       "    <tr>\n",
       "      <th>Length2</th>\n",
       "      <td>15.000</td>\n",
       "    </tr>\n",
       "    <tr>\n",
       "      <th>Length3</th>\n",
       "      <td>16.000</td>\n",
       "    </tr>\n",
       "    <tr>\n",
       "      <th>Height</th>\n",
       "      <td>3.824</td>\n",
       "    </tr>\n",
       "    <tr>\n",
       "      <th>Width</th>\n",
       "      <td>2.432</td>\n",
       "    </tr>\n",
       "  </tbody>\n",
       "</table>\n",
       "</div>"
      ],
      "text/plain": [
       "             74\n",
       "Weight   40.000\n",
       "Length1  13.800\n",
       "Length2  15.000\n",
       "Length3  16.000\n",
       "Height    3.824\n",
       "Width     2.432"
      ]
     },
     "execution_count": 32,
     "metadata": {},
     "output_type": "execute_result"
    }
   ],
   "source": [
    "x_train.head(1).T"
   ]
  },
  {
   "cell_type": "code",
   "execution_count": 33,
   "id": "e0ff5a29",
   "metadata": {},
   "outputs": [
    {
     "data": {
      "text/plain": [
       "'Perch'"
      ]
     },
     "execution_count": 33,
     "metadata": {},
     "output_type": "execute_result"
    }
   ],
   "source": [
    "Weight=45\n",
    "Length1=19\n",
    "Length2=16.000\n",
    "Length3=17.000\n",
    "Height=7\n",
    "Width=5\n",
    "\n",
    "test_array = np.array([Weight,Length1,Length2,Length3,Height,Width], ndmin = 2)\n",
    "pred_class = model.predict(test_array)[0]\n",
    "pred_class"
   ]
  },
  {
   "cell_type": "code",
   "execution_count": 34,
   "id": "f0a20196",
   "metadata": {},
   "outputs": [],
   "source": [
    "import pickle\n",
    "\n",
    "with open(\"Fish_species_detection.pkl\",\"wb\") as f:\n",
    "    pickle.dump(model,f)"
   ]
  },
  {
   "cell_type": "code",
   "execution_count": 1,
   "id": "88ae61f4",
   "metadata": {},
   "outputs": [
    {
     "ename": "TypeError",
     "evalue": "FishSpecies.__init__() missing 1 required positional argument: 'user_data'",
     "output_type": "error",
     "traceback": [
      "\u001b[1;31m---------------------------------------------------------------------------\u001b[0m",
      "\u001b[1;31mTypeError\u001b[0m                                 Traceback (most recent call last)",
      "Cell \u001b[1;32mIn[1], line 31\u001b[0m\n\u001b[0;32m     28\u001b[0m         \u001b[38;5;28;01mreturn\u001b[39;00m predicted_class\n\u001b[0;32m     30\u001b[0m \u001b[38;5;28;01mif\u001b[39;00m \u001b[38;5;18m__name__\u001b[39m \u001b[38;5;241m==\u001b[39m\u001b[38;5;124m\"\u001b[39m\u001b[38;5;124m__main__\u001b[39m\u001b[38;5;124m\"\u001b[39m:\n\u001b[1;32m---> 31\u001b[0m     fish \u001b[38;5;241m=\u001b[39m \u001b[43mFishSpecies\u001b[49m\u001b[43m(\u001b[49m\u001b[43m)\u001b[49m\n",
      "\u001b[1;31mTypeError\u001b[0m: FishSpecies.__init__() missing 1 required positional argument: 'user_data'"
     ]
    }
   ],
   "source": [
    "import config\n",
    "import pickle\n",
    "import numpy as np\n",
    "import pandas as pd\n",
    "import json\n",
    "\n",
    "class FishSpecies:\n",
    "    def __init__(self, user_data):\n",
    "        self.model_file_path = \"Fish_species_detection.pkl\"\n",
    "        self.user_data = user_data\n",
    "    \n",
    "    def load_saved_data(self):\n",
    "        with open (\"Fish_species_detection.pkl\", \"rb\") as f:\n",
    "            self.model = pickle.load(f)\n",
    "\n",
    "    def get_prediction(self):\n",
    "        self.load_saved_data()\n",
    "\n",
    "        Weight= eval(self.user_data[\"Weight\"])\n",
    "\n",
    "        Length1=eval(self.user_data[\"Length1\"])\n",
    "        Length2=eval(self.user_data[\"Length2\"])\n",
    "        Length3=eval(self.user_data[\"Length3\"])\n",
    "        Height=eval(self.user_data[\"Height\"])\n",
    "        Width=eval(self.user_data[\"Width\"])\n",
    "        test_array = np.array([Weight,Length1,Length2,Length3,Height,Width], ndmin = 2)\n",
    "        predicted_class = self.model.predict(test_array)[0]\n",
    "        return predicted_class\n",
    "\n",
    "if __name__ ==\"__main__\":\n",
    "    fish = FishSpecies()"
   ]
  },
  {
   "cell_type": "code",
   "execution_count": 6,
   "id": "31570e0d",
   "metadata": {},
   "outputs": [
    {
     "ename": "SyntaxError",
     "evalue": "invalid syntax (2524892075.py, line 1)",
     "output_type": "error",
     "traceback": [
      "\u001b[1;36m  Cell \u001b[1;32mIn[6], line 1\u001b[1;36m\u001b[0m\n\u001b[1;33m    user_data = data : ImmutableMultiDict([(\"Weight\":\"45\"),\u001b[0m\n\u001b[1;37m                     ^\u001b[0m\n\u001b[1;31mSyntaxError\u001b[0m\u001b[1;31m:\u001b[0m invalid syntax\n"
     ]
    }
   ],
   "source": [
    "user_data = data : ImmutableMultiDict([(\"Weight\":\"45\"),\n",
    "(\"Length1\":\"19\"),\n",
    "(\"Length2\":\"16.000\"),\n",
    "(\"Length3\":\"17.000\"),\n",
    "(\"Height\":\"7\"),\n",
    "(\"Width\":\"5\")])"
   ]
  },
  {
   "cell_type": "code",
   "execution_count": 3,
   "id": "912abf95",
   "metadata": {},
   "outputs": [],
   "source": [
    "from flask import Flask, jsonify, render_template, request, redirect\n",
    "import config\n",
    "from utils import FishSpecies\n",
    "\n",
    "app = Flask(__name__)\n",
    "# @app.route('/')\n",
    "# def man():\n",
    "#     return render_template('home.html')\n",
    "\n",
    "\n",
    "@app.route('/predict',methods = ['GET', \"POST\"])\n",
    "\n",
    "def predict():\n",
    "    if request.method == 'POST':\n",
    "        data = request.form\n",
    "        \n",
    "        print('data :',data)\n",
    "\n",
    "        species_fish = FishSpecies(data)\n",
    "        pred_class = species_fish.get_prediction()\n",
    "        print(\"::::::::::\",pred_class)\n",
    "        \n",
    "        \n",
    "        return jsonify({\"Fish Species\": \"pred_class\"})\n",
    "    # return render_template('after.html', data=pred_class)\n",
    "        # if pred_class == 1:\n",
    "\n",
    "    #     else:\n",
    "    #         return jsonify({\"Outcome\": \"Person has no Diabetes\"})\n",
    "    #    return f\"{pred_class}\"\n",
    "    #     return jsonify({\"class\" :0 })\n"
   ]
  },
  {
   "cell_type": "code",
   "execution_count": null,
   "id": "a1e21725",
   "metadata": {},
   "outputs": [],
   "source": []
  }
 ],
 "metadata": {
  "kernelspec": {
   "display_name": "Python 3 (ipykernel)",
   "language": "python",
   "name": "python3"
  },
  "language_info": {
   "codemirror_mode": {
    "name": "ipython",
    "version": 3
   },
   "file_extension": ".py",
   "mimetype": "text/x-python",
   "name": "python",
   "nbconvert_exporter": "python",
   "pygments_lexer": "ipython3",
   "version": "3.10.6"
  }
 },
 "nbformat": 4,
 "nbformat_minor": 5
}
